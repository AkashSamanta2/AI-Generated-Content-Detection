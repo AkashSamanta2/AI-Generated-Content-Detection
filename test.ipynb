{
  "nbformat": 4,
  "nbformat_minor": 0,
  "metadata": {
    "colab": {
      "provenance": [],
      "gpuType": "T4"
    },
    "kernelspec": {
      "name": "python3",
      "display_name": "Python 3"
    },
    "language_info": {
      "name": "python"
    },
    "accelerator": "GPU"
  },
  "cells": [
    {
      "cell_type": "code",
      "execution_count": null,
      "metadata": {
        "id": "CpXVLcXaX_FV"
      },
      "outputs": [],
      "source": [
        "!pip install -q opencv-python"
      ]
    },
    {
      "cell_type": "code",
      "source": [
        "!pip install -q -U \"tensorflow-text==2.11.*\""
      ],
      "metadata": {
        "colab": {
          "base_uri": "https://localhost:8080/"
        },
        "id": "pzIFWmrPY_Jm",
        "outputId": "de86c692-5443-4a34-fb68-80afeaa6bc2f"
      },
      "execution_count": null,
      "outputs": [
        {
          "output_type": "stream",
          "name": "stdout",
          "text": [
            "\u001b[2K     \u001b[90m━━━━━━━━━━━━━━━━━━━━━━━━━━━━━━━━━━━━━━━━\u001b[0m \u001b[32m5.8/5.8 MB\u001b[0m \u001b[31m18.3 MB/s\u001b[0m eta \u001b[36m0:00:00\u001b[0m\n",
            "\u001b[2K     \u001b[90m━━━━━━━━━━━━━━━━━━━━━━━━━━━━━━━━━━━━━━━━\u001b[0m \u001b[32m588.3/588.3 MB\u001b[0m \u001b[31m2.8 MB/s\u001b[0m eta \u001b[36m0:00:00\u001b[0m\n",
            "\u001b[2K     \u001b[90m━━━━━━━━━━━━━━━━━━━━━━━━━━━━━━━━━━━━━━━━\u001b[0m \u001b[32m1.7/1.7 MB\u001b[0m \u001b[31m87.6 MB/s\u001b[0m eta \u001b[36m0:00:00\u001b[0m\n",
            "\u001b[2K     \u001b[90m━━━━━━━━━━━━━━━━━━━━━━━━━━━━━━━━━━━━━━━━\u001b[0m \u001b[32m1.1/1.1 MB\u001b[0m \u001b[31m71.4 MB/s\u001b[0m eta \u001b[36m0:00:00\u001b[0m\n",
            "\u001b[2K     \u001b[90m━━━━━━━━━━━━━━━━━━━━━━━━━━━━━━━━━━━━━━━━\u001b[0m \u001b[32m6.0/6.0 MB\u001b[0m \u001b[31m97.9 MB/s\u001b[0m eta \u001b[36m0:00:00\u001b[0m\n",
            "\u001b[2K     \u001b[90m━━━━━━━━━━━━━━━━━━━━━━━━━━━━━━━━━━━━━━━━\u001b[0m \u001b[32m439.2/439.2 kB\u001b[0m \u001b[31m42.8 MB/s\u001b[0m eta \u001b[36m0:00:00\u001b[0m\n",
            "\u001b[2K     \u001b[90m━━━━━━━━━━━━━━━━━━━━━━━━━━━━━━━━━━━━━━━━\u001b[0m \u001b[32m4.9/4.9 MB\u001b[0m \u001b[31m97.5 MB/s\u001b[0m eta \u001b[36m0:00:00\u001b[0m\n",
            "\u001b[2K     \u001b[90m━━━━━━━━━━━━━━━━━━━━━━━━━━━━━━━━━━━━━━━━\u001b[0m \u001b[32m781.3/781.3 kB\u001b[0m \u001b[31m63.1 MB/s\u001b[0m eta \u001b[36m0:00:00\u001b[0m\n",
            "\u001b[?25h\u001b[31mERROR: pip's dependency resolver does not currently take into account all the packages that are installed. This behaviour is the source of the following dependency conflicts.\n",
            "pandas-gbq 0.19.2 requires google-auth-oauthlib>=0.7.0, but you have google-auth-oauthlib 0.4.6 which is incompatible.\n",
            "tensorflow-datasets 4.9.4 requires protobuf>=3.20, but you have protobuf 3.19.6 which is incompatible.\n",
            "tensorflow-metadata 1.14.0 requires protobuf<4.21,>=3.20.3, but you have protobuf 3.19.6 which is incompatible.\u001b[0m\u001b[31m\n",
            "\u001b[0m"
          ]
        }
      ]
    },
    {
      "cell_type": "code",
      "source": [
        "!pip install -q tf-models-official"
      ],
      "metadata": {
        "colab": {
          "base_uri": "https://localhost:8080/"
        },
        "id": "-oDnJiK1Zkzr",
        "outputId": "2a7294f1-3e89-4671-8a3d-648e78d84930"
      },
      "execution_count": null,
      "outputs": [
        {
          "output_type": "stream",
          "name": "stdout",
          "text": [
            "\u001b[2K     \u001b[90m━━━━━━━━━━━━━━━━━━━━━━━━━━━━━━━━━━━━━━━━\u001b[0m \u001b[32m2.7/2.7 MB\u001b[0m \u001b[31m15.1 MB/s\u001b[0m eta \u001b[36m0:00:00\u001b[0m\n",
            "\u001b[2K     \u001b[90m━━━━━━━━━━━━━━━━━━━━━━━━━━━━━━━━━━━━━━━━\u001b[0m \u001b[32m106.6/106.6 kB\u001b[0m \u001b[31m13.5 MB/s\u001b[0m eta \u001b[36m0:00:00\u001b[0m\n",
            "\u001b[2K     \u001b[90m━━━━━━━━━━━━━━━━━━━━━━━━━━━━━━━━━━━━━━━━\u001b[0m \u001b[32m43.6/43.6 kB\u001b[0m \u001b[31m5.3 MB/s\u001b[0m eta \u001b[36m0:00:00\u001b[0m\n",
            "\u001b[?25h  Preparing metadata (setup.py) ... \u001b[?25l\u001b[?25hdone\n",
            "\u001b[2K     \u001b[90m━━━━━━━━━━━━━━━━━━━━━━━━━━━━━━━━━━━━━━━━\u001b[0m \u001b[32m242.5/242.5 kB\u001b[0m \u001b[31m16.0 MB/s\u001b[0m eta \u001b[36m0:00:00\u001b[0m\n",
            "\u001b[2K     \u001b[90m━━━━━━━━━━━━━━━━━━━━━━━━━━━━━━━━━━━━━━━━\u001b[0m \u001b[32m5.2/5.2 MB\u001b[0m \u001b[31m37.2 MB/s\u001b[0m eta \u001b[36m0:00:00\u001b[0m\n",
            "\u001b[2K     \u001b[90m━━━━━━━━━━━━━━━━━━━━━━━━━━━━━━━━━━━━━━━━\u001b[0m \u001b[32m475.2/475.2 MB\u001b[0m \u001b[31m3.4 MB/s\u001b[0m eta \u001b[36m0:00:00\u001b[0m\n",
            "\u001b[2K     \u001b[90m━━━━━━━━━━━━━━━━━━━━━━━━━━━━━━━━━━━━━━━━\u001b[0m \u001b[32m2.2/2.2 MB\u001b[0m \u001b[31m94.7 MB/s\u001b[0m eta \u001b[36m0:00:00\u001b[0m\n",
            "\u001b[2K     \u001b[90m━━━━━━━━━━━━━━━━━━━━━━━━━━━━━━━━━━━━━━━━\u001b[0m \u001b[32m294.6/294.6 kB\u001b[0m \u001b[31m33.6 MB/s\u001b[0m eta \u001b[36m0:00:00\u001b[0m\n",
            "\u001b[2K     \u001b[90m━━━━━━━━━━━━━━━━━━━━━━━━━━━━━━━━━━━━━━━━\u001b[0m \u001b[32m5.5/5.5 MB\u001b[0m \u001b[31m97.6 MB/s\u001b[0m eta \u001b[36m0:00:00\u001b[0m\n",
            "\u001b[2K     \u001b[90m━━━━━━━━━━━━━━━━━━━━━━━━━━━━━━━━━━━━━━━━\u001b[0m \u001b[32m442.0/442.0 kB\u001b[0m \u001b[31m42.4 MB/s\u001b[0m eta \u001b[36m0:00:00\u001b[0m\n",
            "\u001b[2K     \u001b[90m━━━━━━━━━━━━━━━━━━━━━━━━━━━━━━━━━━━━━━━━\u001b[0m \u001b[32m1.7/1.7 MB\u001b[0m \u001b[31m82.8 MB/s\u001b[0m eta \u001b[36m0:00:00\u001b[0m\n",
            "\u001b[2K     \u001b[90m━━━━━━━━━━━━━━━━━━━━━━━━━━━━━━━━━━━━━━━━\u001b[0m \u001b[32m6.6/6.6 MB\u001b[0m \u001b[31m100.1 MB/s\u001b[0m eta \u001b[36m0:00:00\u001b[0m\n",
            "\u001b[2K     \u001b[90m━━━━━━━━━━━━━━━━━━━━━━━━━━━━━━━━━━━━━━━━\u001b[0m \u001b[32m1.1/1.1 MB\u001b[0m \u001b[31m74.0 MB/s\u001b[0m eta \u001b[36m0:00:00\u001b[0m\n",
            "\u001b[?25h  Building wheel for seqeval (setup.py) ... \u001b[?25l\u001b[?25hdone\n"
          ]
        }
      ]
    },
    {
      "cell_type": "code",
      "source": [
        "import os\n",
        "\n",
        "import numpy as np\n",
        "import matplotlib.pyplot as plt\n",
        "\n",
        "import tensorflow as tf\n",
        "import tensorflow_models as tfm\n",
        "import tensorflow_hub as hub\n",
        "import tensorflow_datasets as tfds\n",
        "tfds.disable_progress_bar()"
      ],
      "metadata": {
        "id": "GkuQgKKiZ4Jb"
      },
      "execution_count": null,
      "outputs": []
    },
    {
      "cell_type": "code",
      "source": [
        "gs_folder_bert = \"gs://cloud-tpu-checkpoints/bert/v3/uncased_L-12_H-768_A-12\"\n",
        "tf.io.gfile.listdir(gs_folder_bert)"
      ],
      "metadata": {
        "colab": {
          "base_uri": "https://localhost:8080/"
        },
        "id": "L5iRxD7YZ9WQ",
        "outputId": "45524968-d719-4019-b177-45a589699beb"
      },
      "execution_count": null,
      "outputs": [
        {
          "output_type": "execute_result",
          "data": {
            "text/plain": [
              "['bert_config.json',\n",
              " 'bert_model.ckpt.data-00000-of-00001',\n",
              " 'bert_model.ckpt.index',\n",
              " 'vocab.txt']"
            ]
          },
          "metadata": {},
          "execution_count": 5
        }
      ]
    },
    {
      "cell_type": "code",
      "source": [
        "batch_size=32\n",
        "glue, info = tfds.load('glue/mrpc',\n",
        "                       with_info=True,\n",
        "                       batch_size=32)"
      ],
      "metadata": {
        "colab": {
          "base_uri": "https://localhost:8080/"
        },
        "id": "DZzu0o4WZ_Wy",
        "outputId": "2ea7563c-d5a1-4f74-9a0e-fa70c6b4cb71"
      },
      "execution_count": null,
      "outputs": [
        {
          "output_type": "stream",
          "name": "stdout",
          "text": [
            "Downloading and preparing dataset 1.43 MiB (download: 1.43 MiB, generated: 1.74 MiB, total: 3.17 MiB) to /root/tensorflow_datasets/glue/mrpc/2.0.0...\n",
            "Dataset glue downloaded and prepared to /root/tensorflow_datasets/glue/mrpc/2.0.0. Subsequent calls will reuse this data.\n"
          ]
        }
      ]
    },
    {
      "cell_type": "code",
      "source": [
        "glue"
      ],
      "metadata": {
        "colab": {
          "base_uri": "https://localhost:8080/"
        },
        "id": "xkPiWj4BaExy",
        "outputId": "3629759b-bedd-45be-c305-4542ce65dbf3"
      },
      "execution_count": null,
      "outputs": [
        {
          "output_type": "execute_result",
          "data": {
            "text/plain": [
              "{Split('train'): <_PrefetchDataset element_spec={'idx': TensorSpec(shape=(None,), dtype=tf.int32, name=None), 'label': TensorSpec(shape=(None,), dtype=tf.int64, name=None), 'sentence1': TensorSpec(shape=(None,), dtype=tf.string, name=None), 'sentence2': TensorSpec(shape=(None,), dtype=tf.string, name=None)}>,\n",
              " Split('validation'): <_PrefetchDataset element_spec={'idx': TensorSpec(shape=(None,), dtype=tf.int32, name=None), 'label': TensorSpec(shape=(None,), dtype=tf.int64, name=None), 'sentence1': TensorSpec(shape=(None,), dtype=tf.string, name=None), 'sentence2': TensorSpec(shape=(None,), dtype=tf.string, name=None)}>,\n",
              " Split('test'): <_PrefetchDataset element_spec={'idx': TensorSpec(shape=(None,), dtype=tf.int32, name=None), 'label': TensorSpec(shape=(None,), dtype=tf.int64, name=None), 'sentence1': TensorSpec(shape=(None,), dtype=tf.string, name=None), 'sentence2': TensorSpec(shape=(None,), dtype=tf.string, name=None)}>}"
            ]
          },
          "metadata": {},
          "execution_count": 7
        }
      ]
    },
    {
      "cell_type": "code",
      "source": [
        "info.features"
      ],
      "metadata": {
        "colab": {
          "base_uri": "https://localhost:8080/"
        },
        "id": "FOhTXbdlaKlx",
        "outputId": "5f999e82-984e-454f-d20e-5741b4b369e1"
      },
      "execution_count": null,
      "outputs": [
        {
          "output_type": "execute_result",
          "data": {
            "text/plain": [
              "FeaturesDict({\n",
              "    'idx': int32,\n",
              "    'label': ClassLabel(shape=(), dtype=int64, num_classes=2),\n",
              "    'sentence1': Text(shape=(), dtype=string),\n",
              "    'sentence2': Text(shape=(), dtype=string),\n",
              "})"
            ]
          },
          "metadata": {},
          "execution_count": 8
        }
      ]
    },
    {
      "cell_type": "code",
      "source": [
        "info.features['label'].names"
      ],
      "metadata": {
        "colab": {
          "base_uri": "https://localhost:8080/"
        },
        "id": "KczVdXnnaMra",
        "outputId": "40d0b4ba-f6a7-4ada-d104-bb0f1660f64a"
      },
      "execution_count": null,
      "outputs": [
        {
          "output_type": "execute_result",
          "data": {
            "text/plain": [
              "['not_equivalent', 'equivalent']"
            ]
          },
          "metadata": {},
          "execution_count": 9
        }
      ]
    },
    {
      "cell_type": "code",
      "source": [
        "example_batch = next(iter(glue['train']))\n",
        "\n",
        "for key, value in example_batch.items():\n",
        "  print(f\"{key:9s}: {value[0].numpy()}\")"
      ],
      "metadata": {
        "colab": {
          "base_uri": "https://localhost:8080/"
        },
        "id": "b-6y7PIsaTcb",
        "outputId": "0a516d86-a696-4cc2-fca1-44c003792375"
      },
      "execution_count": null,
      "outputs": [
        {
          "output_type": "stream",
          "name": "stdout",
          "text": [
            "idx      : 1680\n",
            "label    : 0\n",
            "sentence1: b'The identical rovers will act as robotic geologists , searching for evidence of past water .'\n",
            "sentence2: b'The rovers act as robotic geologists , moving on six wheels .'\n"
          ]
        }
      ]
    },
    {
      "cell_type": "code",
      "source": [
        "tokenizer = tfm.nlp.layers.FastWordpieceBertTokenizer(\n",
        "    vocab_file=os.path.join(gs_folder_bert, \"vocab.txt\"),\n",
        "    lower_case=True)"
      ],
      "metadata": {
        "id": "hfpwqhaaaW0D"
      },
      "execution_count": null,
      "outputs": []
    },
    {
      "cell_type": "code",
      "source": [
        "tokens = tokenizer(tf.constant([\"Hello TensorFlow!\"]))\n",
        "tokens"
      ],
      "metadata": {
        "colab": {
          "base_uri": "https://localhost:8080/"
        },
        "id": "zxd9sBCtaYwK",
        "outputId": "98724c1b-dee8-4d97-c5bc-202065c713b3"
      },
      "execution_count": null,
      "outputs": [
        {
          "output_type": "execute_result",
          "data": {
            "text/plain": [
              "<tf.RaggedTensor [[[7592], [23435, 12314], [999]]]>"
            ]
          },
          "metadata": {},
          "execution_count": 12
        }
      ]
    },
    {
      "cell_type": "code",
      "source": [
        "special = tokenizer.get_special_tokens_dict()\n",
        "special"
      ],
      "metadata": {
        "colab": {
          "base_uri": "https://localhost:8080/"
        },
        "id": "K_xHUVraaeez",
        "outputId": "a61d36c9-373d-494b-933c-9fe435b2455b"
      },
      "execution_count": null,
      "outputs": [
        {
          "output_type": "execute_result",
          "data": {
            "text/plain": [
              "{'vocab_size': 30522,\n",
              " 'start_of_sequence_id': 101,\n",
              " 'end_of_segment_id': 102,\n",
              " 'padding_id': 0,\n",
              " 'mask_id': 103}"
            ]
          },
          "metadata": {},
          "execution_count": 13
        }
      ]
    },
    {
      "cell_type": "code",
      "source": [
        "max_seq_length = 128\n",
        "\n",
        "packer = tfm.nlp.layers.BertPackInputs(\n",
        "    seq_length=max_seq_length,\n",
        "    special_tokens_dict = tokenizer.get_special_tokens_dict())"
      ],
      "metadata": {
        "id": "7tVoMLlEaig6"
      },
      "execution_count": null,
      "outputs": []
    },
    {
      "cell_type": "code",
      "source": [
        "sentences1 = [\"hello tensorflow\"]\n",
        "tok1 = tokenizer(sentences1)\n",
        "tok1"
      ],
      "metadata": {
        "colab": {
          "base_uri": "https://localhost:8080/"
        },
        "id": "0OdTJET-aodM",
        "outputId": "fbd3a26b-dd58-4c21-eba6-8eca347861c0"
      },
      "execution_count": null,
      "outputs": [
        {
          "output_type": "execute_result",
          "data": {
            "text/plain": [
              "<tf.RaggedTensor [[[7592], [23435, 12314]]]>"
            ]
          },
          "metadata": {},
          "execution_count": 15
        }
      ]
    },
    {
      "cell_type": "code",
      "source": [
        "sentences2 = [\"goodbye tensorflow\"]\n",
        "tok2 = tokenizer(sentences2)\n",
        "tok2"
      ],
      "metadata": {
        "colab": {
          "base_uri": "https://localhost:8080/"
        },
        "id": "9YVxSwuiasD4",
        "outputId": "8c807270-9cf5-4588-9462-71c961408366"
      },
      "execution_count": null,
      "outputs": [
        {
          "output_type": "execute_result",
          "data": {
            "text/plain": [
              "<tf.RaggedTensor [[[9119], [23435, 12314]]]>"
            ]
          },
          "metadata": {},
          "execution_count": 16
        }
      ]
    },
    {
      "cell_type": "code",
      "source": [
        "packed = packer([tok1, tok2])\n",
        "\n",
        "for key, tensor in packed.items():\n",
        "  print(f\"{key:15s}: {tensor[:, :12]}\")"
      ],
      "metadata": {
        "colab": {
          "base_uri": "https://localhost:8080/"
        },
        "id": "O3WPscL1avoI",
        "outputId": "98bb5e71-9d8a-4347-8ede-f3487f7640ca"
      },
      "execution_count": null,
      "outputs": [
        {
          "output_type": "stream",
          "name": "stdout",
          "text": [
            "input_word_ids : [[  101  7592 23435 12314   102  9119 23435 12314   102     0     0     0]]\n",
            "input_mask     : [[1 1 1 1 1 1 1 1 1 0 0 0]]\n",
            "input_type_ids : [[0 0 0 0 0 1 1 1 1 0 0 0]]\n"
          ]
        }
      ]
    },
    {
      "cell_type": "code",
      "source": [
        "class BertInputProcessor(tf.keras.layers.Layer):\n",
        "  def __init__(self, tokenizer, packer):\n",
        "    super().__init__()\n",
        "    self.tokenizer = tokenizer\n",
        "    self.packer = packer\n",
        "\n",
        "  def call(self, inputs):\n",
        "    tok1 = self.tokenizer(inputs['sentence1'])\n",
        "    tok2 = self.tokenizer(inputs['sentence2'])\n",
        "\n",
        "    packed = self.packer([tok1, tok2])\n",
        "\n",
        "    if 'label' in inputs:\n",
        "      return packed, inputs['label']\n",
        "    else:\n",
        "      return packed"
      ],
      "metadata": {
        "id": "txWByj-5a04x"
      },
      "execution_count": null,
      "outputs": []
    },
    {
      "cell_type": "code",
      "source": [
        "bert_inputs_processor = BertInputProcessor(tokenizer, packer)"
      ],
      "metadata": {
        "id": "-lhmT3S7a29f"
      },
      "execution_count": null,
      "outputs": []
    },
    {
      "cell_type": "code",
      "source": [
        "glue_train = glue['train'].map(bert_inputs_processor).prefetch(1)"
      ],
      "metadata": {
        "id": "7EdTXr4La7rd"
      },
      "execution_count": null,
      "outputs": []
    },
    {
      "cell_type": "code",
      "source": [
        "example_inputs, example_labels = next(iter(glue_train))"
      ],
      "metadata": {
        "id": "wR9se6RnbADs"
      },
      "execution_count": null,
      "outputs": []
    },
    {
      "cell_type": "code",
      "source": [
        "example_inputs"
      ],
      "metadata": {
        "colab": {
          "base_uri": "https://localhost:8080/"
        },
        "id": "qzKOj42RbFvM",
        "outputId": "e0f5e618-231b-4344-e835-edf2280eab34"
      },
      "execution_count": null,
      "outputs": [
        {
          "output_type": "execute_result",
          "data": {
            "text/plain": [
              "{'input_word_ids': <tf.Tensor: shape=(32, 128), dtype=int32, numpy=\n",
              " array([[ 101, 1996, 7235, ...,    0,    0,    0],\n",
              "        [ 101, 2625, 2084, ...,    0,    0,    0],\n",
              "        [ 101, 6804, 1011, ...,    0,    0,    0],\n",
              "        ...,\n",
              "        [ 101, 2021, 2049, ...,    0,    0,    0],\n",
              "        [ 101, 2274, 2062, ...,    0,    0,    0],\n",
              "        [ 101, 2043, 1037, ...,    0,    0,    0]], dtype=int32)>,\n",
              " 'input_mask': <tf.Tensor: shape=(32, 128), dtype=int32, numpy=\n",
              " array([[1, 1, 1, ..., 0, 0, 0],\n",
              "        [1, 1, 1, ..., 0, 0, 0],\n",
              "        [1, 1, 1, ..., 0, 0, 0],\n",
              "        ...,\n",
              "        [1, 1, 1, ..., 0, 0, 0],\n",
              "        [1, 1, 1, ..., 0, 0, 0],\n",
              "        [1, 1, 1, ..., 0, 0, 0]], dtype=int32)>,\n",
              " 'input_type_ids': <tf.Tensor: shape=(32, 128), dtype=int32, numpy=\n",
              " array([[0, 0, 0, ..., 0, 0, 0],\n",
              "        [0, 0, 0, ..., 0, 0, 0],\n",
              "        [0, 0, 0, ..., 0, 0, 0],\n",
              "        ...,\n",
              "        [0, 0, 0, ..., 0, 0, 0],\n",
              "        [0, 0, 0, ..., 0, 0, 0],\n",
              "        [0, 0, 0, ..., 0, 0, 0]], dtype=int32)>}"
            ]
          },
          "metadata": {},
          "execution_count": 22
        }
      ]
    },
    {
      "cell_type": "code",
      "source": [
        "example_labels"
      ],
      "metadata": {
        "colab": {
          "base_uri": "https://localhost:8080/"
        },
        "id": "j1OIcS53bKf4",
        "outputId": "c156cb00-fb93-4f64-adbb-95f77f923d76"
      },
      "execution_count": null,
      "outputs": [
        {
          "output_type": "execute_result",
          "data": {
            "text/plain": [
              "<tf.Tensor: shape=(32,), dtype=int64, numpy=\n",
              "array([0, 0, 1, 1, 0, 0, 1, 1, 1, 1, 1, 1, 0, 1, 1, 0, 1, 1, 1, 0, 1, 1,\n",
              "       1, 1, 1, 1, 1, 0, 0, 1, 0, 1])>"
            ]
          },
          "metadata": {},
          "execution_count": 23
        }
      ]
    },
    {
      "cell_type": "code",
      "source": [
        "for key, value in example_inputs.items():\n",
        "  print(f'{key:15s} shape: {value.shape}')\n",
        "\n",
        "print(f'{\"labels\":15s} shape: {example_labels.shape}')"
      ],
      "metadata": {
        "colab": {
          "base_uri": "https://localhost:8080/"
        },
        "id": "OgtMX65-bQe4",
        "outputId": "7724fa78-2c0c-49f7-98ae-e1e1900f8a5f"
      },
      "execution_count": null,
      "outputs": [
        {
          "output_type": "stream",
          "name": "stdout",
          "text": [
            "input_word_ids  shape: (32, 128)\n",
            "input_mask      shape: (32, 128)\n",
            "input_type_ids  shape: (32, 128)\n",
            "labels          shape: (32,)\n"
          ]
        }
      ]
    },
    {
      "cell_type": "code",
      "source": [
        "plt.pcolormesh(example_inputs['input_word_ids'])"
      ],
      "metadata": {
        "colab": {
          "base_uri": "https://localhost:8080/"
        },
        "id": "N9PXzgYIbSfJ",
        "outputId": "ef1d4382-5102-4823-ec32-8bd8c9e2a4dc"
      },
      "execution_count": null,
      "outputs": [
        {
          "output_type": "execute_result",
          "data": {
            "text/plain": [
              "<matplotlib.collections.QuadMesh at 0x79f8ad6e2aa0>"
            ]
          },
          "metadata": {},
          "execution_count": 25
        }
      ]
    },
    {
      "cell_type": "code",
      "source": [
        "plt.pcolormesh(example_inputs['input_mask'])"
      ],
      "metadata": {
        "colab": {
          "base_uri": "https://localhost:8080/"
        },
        "id": "4AanrXT3bXFu",
        "outputId": "bc023c74-c5ca-489a-b9d8-b9906e3e1405"
      },
      "execution_count": null,
      "outputs": [
        {
          "output_type": "execute_result",
          "data": {
            "text/plain": [
              "<matplotlib.collections.QuadMesh at 0x79f8d8c8b880>"
            ]
          },
          "metadata": {},
          "execution_count": 26
        }
      ]
    },
    {
      "cell_type": "code",
      "source": [
        "plt.pcolormesh(example_inputs['input_type_ids'])"
      ],
      "metadata": {
        "colab": {
          "base_uri": "https://localhost:8080/"
        },
        "id": "aORhgJJIbc4P",
        "outputId": "e422d3f9-3cad-4c66-e448-30049bf74ee6"
      },
      "execution_count": null,
      "outputs": [
        {
          "output_type": "execute_result",
          "data": {
            "text/plain": [
              "<matplotlib.collections.QuadMesh at 0x79f8d8e27cd0>"
            ]
          },
          "metadata": {},
          "execution_count": 27
        }
      ]
    },
    {
      "cell_type": "code",
      "source": [
        "glue_validation = glue['validation'].map(bert_inputs_processor).prefetch(1)\n",
        "glue_test = glue['test'].map(bert_inputs_processor).prefetch(1)"
      ],
      "metadata": {
        "id": "YoGNjQrYd2Yg"
      },
      "execution_count": null,
      "outputs": []
    },
    {
      "cell_type": "code",
      "source": [
        "import json\n",
        "\n",
        "bert_config_file = os.path.join(gs_folder_bert, \"bert_config.json\")\n",
        "config_dict = json.loads(tf.io.gfile.GFile(bert_config_file).read())\n",
        "config_dict"
      ],
      "metadata": {
        "colab": {
          "base_uri": "https://localhost:8080/"
        },
        "id": "DaHUB62Tbev2",
        "outputId": "adaeec9d-ca1c-4901-ea99-7529d4c4a1de"
      },
      "execution_count": null,
      "outputs": [
        {
          "output_type": "execute_result",
          "data": {
            "text/plain": [
              "{'attention_probs_dropout_prob': 0.1,\n",
              " 'hidden_act': 'gelu',\n",
              " 'hidden_dropout_prob': 0.1,\n",
              " 'hidden_size': 768,\n",
              " 'initializer_range': 0.02,\n",
              " 'intermediate_size': 3072,\n",
              " 'max_position_embeddings': 512,\n",
              " 'num_attention_heads': 12,\n",
              " 'num_hidden_layers': 12,\n",
              " 'type_vocab_size': 2,\n",
              " 'vocab_size': 30522}"
            ]
          },
          "metadata": {},
          "execution_count": 28
        }
      ]
    },
    {
      "cell_type": "code",
      "source": [
        "encoder_config = tfm.nlp.encoders.EncoderConfig({\n",
        "    'type':'bert',\n",
        "    'bert': config_dict\n",
        "})"
      ],
      "metadata": {
        "id": "2zTMSRSHblYY"
      },
      "execution_count": null,
      "outputs": []
    },
    {
      "cell_type": "code",
      "source": [
        "bert_encoder = tfm.nlp.encoders.build_encoder(encoder_config)\n",
        "bert_encoder"
      ],
      "metadata": {
        "colab": {
          "base_uri": "https://localhost:8080/"
        },
        "id": "4sDlN4jGbpB3",
        "outputId": "1492607a-ef55-40cd-b7c5-2bbf1cde3666"
      },
      "execution_count": null,
      "outputs": [
        {
          "output_type": "execute_result",
          "data": {
            "text/plain": [
              "<official.nlp.modeling.networks.bert_encoder.BertEncoder at 0x79f8c030f340>"
            ]
          },
          "metadata": {},
          "execution_count": 30
        }
      ]
    },
    {
      "cell_type": "code",
      "source": [
        "bert_classifier = tfm.nlp.models.BertClassifier(network=bert_encoder, num_classes=2)"
      ],
      "metadata": {
        "id": "bJUEXGnXbv8f"
      },
      "execution_count": null,
      "outputs": []
    },
    {
      "cell_type": "code",
      "source": [
        "bert_classifier(\n",
        "    example_inputs, training=True).numpy()[:10]"
      ],
      "metadata": {
        "colab": {
          "base_uri": "https://localhost:8080/"
        },
        "id": "dnc_DsDKbx-Z",
        "outputId": "a895ccd2-bd7d-409b-df9a-f3e66378dc2f"
      },
      "execution_count": null,
      "outputs": [
        {
          "output_type": "execute_result",
          "data": {
            "text/plain": [
              "array([[-0.19392362,  0.8766538 ],\n",
              "       [ 0.7802286 ,  1.0460665 ],\n",
              "       [ 0.08290182,  1.136059  ],\n",
              "       [-0.15185988,  1.185472  ],\n",
              "       [ 0.3750297 ,  1.0852078 ],\n",
              "       [-0.11221895,  1.1584003 ],\n",
              "       [-0.10354109,  1.0045519 ],\n",
              "       [-0.35312924,  0.74751174],\n",
              "       [-0.94308597,  0.4851116 ],\n",
              "       [-0.04676542,  0.30862975]], dtype=float32)"
            ]
          },
          "metadata": {},
          "execution_count": 32
        }
      ]
    },
    {
      "cell_type": "code",
      "source": [
        "tf.keras.utils.plot_model(bert_encoder, show_shapes=True, dpi=48)"
      ],
      "metadata": {
        "colab": {
          "base_uri": "https://localhost:8080/",
          "height": 1000
        },
        "id": "VqtJ1Fb8b4Q_",
        "outputId": "2fc02903-0d6f-4691-ec72-b5d927ce8ab1"
      },
      "execution_count": null,
      "outputs": [
        {
          "output_type": "execute_result",
          "data": {
            "image/png": "[encoded data removed]",
            "text/plain": [
              "<IPython.core.display.Image object>"
            ]
          },
          "metadata": {},
          "execution_count": 33
        }
      ]
    },
    {
      "cell_type": "code",
      "source": [
        "checkpoint = tf.train.Checkpoint(encoder=bert_encoder)\n",
        "checkpoint.read(\n",
        "    os.path.join(gs_folder_bert, 'bert_model.ckpt')).assert_consumed()"
      ],
      "metadata": {
        "colab": {
          "base_uri": "https://localhost:8080/"
        },
        "id": "FcKj2BzBb9M_",
        "outputId": "d0342f94-cd41-477c-c66a-692644b885bf"
      },
      "execution_count": null,
      "outputs": [
        {
          "output_type": "execute_result",
          "data": {
            "text/plain": [
              "<tensorflow.python.checkpoint.checkpoint.CheckpointLoadStatus at 0x79f8ad599780>"
            ]
          },
          "metadata": {},
          "execution_count": 34
        }
      ]
    },
    {
      "cell_type": "code",
      "source": [
        "epochs = 5\n",
        "batch_size = 32\n",
        "eval_batch_size = 32\n",
        "\n",
        "train_data_size = info.splits['train'].num_examples\n",
        "steps_per_epoch = int(train_data_size / batch_size)\n",
        "num_train_steps = steps_per_epoch * epochs\n",
        "warmup_steps = int(0.1 * num_train_steps)\n",
        "initial_learning_rate=2e-5"
      ],
      "metadata": {
        "id": "GIGQdUkJcDOA"
      },
      "execution_count": null,
      "outputs": []
    },
    {
      "cell_type": "code",
      "source": [
        "linear_decay = tf.keras.optimizers.schedules.PolynomialDecay(\n",
        "    initial_learning_rate=initial_learning_rate,\n",
        "    end_learning_rate=0,\n",
        "    decay_steps=num_train_steps)"
      ],
      "metadata": {
        "id": "RV7pyJ6kcGzX"
      },
      "execution_count": null,
      "outputs": []
    },
    {
      "cell_type": "code",
      "source": [
        "warmup_schedule = tfm.optimization.lr_schedule.LinearWarmup(\n",
        "    warmup_learning_rate = 0,\n",
        "    after_warmup_lr_sched = linear_decay,\n",
        "    warmup_steps = warmup_steps\n",
        ")"
      ],
      "metadata": {
        "id": "V0PLlp8BcK8_"
      },
      "execution_count": null,
      "outputs": []
    },
    {
      "cell_type": "code",
      "source": [
        "x = tf.linspace(0, num_train_steps, 1001)\n",
        "y = [warmup_schedule(xi) for xi in x]\n",
        "plt.plot(x,y)\n",
        "plt.xlabel('Train step')\n",
        "plt.ylabel('Learning rate')"
      ],
      "metadata": {
        "colab": {
          "base_uri": "https://localhost:8080/"
        },
        "id": "L1USB3xjcOpQ",
        "outputId": "330af427-ac9a-474e-e52a-2342c87582ff"
      },
      "execution_count": null,
      "outputs": [
        {
          "output_type": "execute_result",
          "data": {
            "text/plain": [
              "Text(47.097222222222214, 0.5, 'Learning rate')"
            ]
          },
          "metadata": {},
          "execution_count": 38
        }
      ]
    },
    {
      "cell_type": "code",
      "source": [
        "x = tf.linspace(0, num_train_steps, 1001)\n",
        "y = [warmup_schedule(xi) for xi in x]\n",
        "plt.plot(x,y)\n",
        "plt.xlabel('Train step')\n",
        "plt.ylabel('Learning rate')"
      ],
      "metadata": {
        "colab": {
          "base_uri": "https://localhost:8080/"
        },
        "id": "eAuKofTvcVaZ",
        "outputId": "bd1b7422-a679-455a-84ea-13e0e8a6c091"
      },
      "execution_count": null,
      "outputs": [
        {
          "output_type": "execute_result",
          "data": {
            "text/plain": [
              "Text(47.097222222222214, 0.5, 'Learning rate')"
            ]
          },
          "metadata": {},
          "execution_count": 39
        }
      ]
    },
    {
      "cell_type": "code",
      "source": [
        "optimizer = tf.keras.optimizers.experimental.Adam(\n",
        "    learning_rate = warmup_schedule)"
      ],
      "metadata": {
        "id": "ZB4vim82dOQg"
      },
      "execution_count": null,
      "outputs": []
    },
    {
      "cell_type": "code",
      "source": [
        "metrics = [tf.keras.metrics.SparseCategoricalAccuracy('accuracy', dtype=tf.float32)]\n",
        "loss = tf.keras.losses.SparseCategoricalCrossentropy(from_logits=True)\n",
        "\n",
        "bert_classifier.compile(\n",
        "    optimizer=optimizer,\n",
        "    loss=loss,\n",
        "    metrics=metrics)"
      ],
      "metadata": {
        "id": "fGTq9k3bcaL5"
      },
      "execution_count": null,
      "outputs": []
    },
    {
      "cell_type": "code",
      "source": [
        "bert_classifier.evaluate(glue_validation)"
      ],
      "metadata": {
        "colab": {
          "base_uri": "https://localhost:8080/"
        },
        "id": "AJkHKE_fdWXI",
        "outputId": "c52d4e70-cb47-461c-9047-10d5e7e10383"
      },
      "execution_count": null,
      "outputs": [
        {
          "output_type": "stream",
          "name": "stdout",
          "text": [
            "13/13 [==============================] - 7s 302ms/step - loss: 0.6274 - accuracy: 0.6838\n"
          ]
        },
        {
          "output_type": "execute_result",
          "data": {
            "text/plain": [
              "[0.6273853778839111, 0.6838235259056091]"
            ]
          },
          "metadata": {},
          "execution_count": 45
        }
      ]
    },
    {
      "cell_type": "code",
      "source": [
        "bert_classifier.fit(\n",
        "      glue_train,\n",
        "      validation_data=(glue_validation),\n",
        "      batch_size=32,\n",
        "      epochs=epochs)"
      ],
      "metadata": {
        "colab": {
          "base_uri": "https://localhost:8080/"
        },
        "id": "Fymh8YsneaGm",
        "outputId": "cbe007ec-d980-400b-cc8c-dbc14b94cced"
      },
      "execution_count": null,
      "outputs": [
        {
          "output_type": "stream",
          "name": "stdout",
          "text": [
            "Epoch 1/5\n",
            "115/115 [==============================] - 138s 891ms/step - loss: 0.6260 - accuracy: 0.6734 - val_loss: 0.4816 - val_accuracy: 0.7868\n",
            "Epoch 2/5\n",
            "115/115 [==============================] - 103s 897ms/step - loss: 0.4182 - accuracy: 0.8122 - val_loss: 0.3766 - val_accuracy: 0.8260\n",
            "Epoch 3/5\n",
            "115/115 [==============================] - 103s 899ms/step - loss: 0.2322 - accuracy: 0.9114 - val_loss: 0.4245 - val_accuracy: 0.8382\n",
            "Epoch 4/5\n",
            "115/115 [==============================] - 102s 890ms/step - loss: 0.1290 - accuracy: 0.9545 - val_loss: 0.4674 - val_accuracy: 0.8382\n",
            "Epoch 5/5\n",
            "115/115 [==============================] - 103s 892ms/step - loss: 0.0744 - accuracy: 0.9779 - val_loss: 0.4733 - val_accuracy: 0.8407\n"
          ]
        },
        {
          "output_type": "execute_result",
          "data": {
            "text/plain": [
              "<keras.src.callbacks.History at 0x79f8ac54cbe0>"
            ]
          },
          "metadata": {},
          "execution_count": 46
        }
      ]
    },
    {
      "cell_type": "code",
      "source": [
        "my_examples = {\n",
        "        'sentence1':[\n",
        "            'The rain in Spain falls mainly on the plain.',\n",
        "            'Look I fine tuned BERT.'],\n",
        "        'sentence2':[\n",
        "            'It mostly rains on the flat lands of Spain.',\n",
        "            'Is it working? This does not match.']\n",
        "    }"
      ],
      "metadata": {
        "id": "zoCXkln6g8fn"
      },
      "execution_count": null,
      "outputs": []
    },
    {
      "cell_type": "code",
      "source": [
        "ex_packed = bert_inputs_processor(my_examples)\n",
        "my_logits = bert_classifier(ex_packed, training=False)\n",
        "\n",
        "result_cls_ids = tf.argmax(my_logits)\n",
        "result_cls_ids"
      ],
      "metadata": {
        "colab": {
          "base_uri": "https://localhost:8080/"
        },
        "id": "yseM0LS_hBim",
        "outputId": "de3889bb-cfb2-4086-e8f4-c1d65e534d49"
      },
      "execution_count": null,
      "outputs": [
        {
          "output_type": "execute_result",
          "data": {
            "text/plain": [
              "<tf.Tensor: shape=(2,), dtype=int64, numpy=array([1, 0])>"
            ]
          },
          "metadata": {},
          "execution_count": 48
        }
      ]
    },
    {
      "cell_type": "code",
      "source": [
        "tf.gather(tf.constant(info.features['label'].names), result_cls_ids)"
      ],
      "metadata": {
        "colab": {
          "base_uri": "https://localhost:8080/"
        },
        "id": "y5MsUrpJhI3p",
        "outputId": "b52d968c-0a97-4782-bf88-40d4fa130290"
      },
      "execution_count": null,
      "outputs": [
        {
          "output_type": "execute_result",
          "data": {
            "text/plain": [
              "<tf.Tensor: shape=(2,), dtype=string, numpy=array([b'equivalent', b'not_equivalent'], dtype=object)>"
            ]
          },
          "metadata": {},
          "execution_count": 49
        }
      ]
    },
    {
      "cell_type": "markdown",
      "source": [
        "Export model"
      ],
      "metadata": {
        "id": "muUY2wN6hFyH"
      }
    },
    {
      "cell_type": "code",
      "source": [
        "class ExportModel(tf.Module):\n",
        "  def __init__(self, input_processor, classifier):\n",
        "    self.input_processor = input_processor\n",
        "    self.classifier = classifier\n",
        "\n",
        "  @tf.function(input_signature=[{\n",
        "      'sentence1': tf.TensorSpec(shape=[None], dtype=tf.string),\n",
        "      'sentence2': tf.TensorSpec(shape=[None], dtype=tf.string)}])\n",
        "  def __call__(self, inputs):\n",
        "    packed = self.input_processor(inputs)\n",
        "    logits =  self.classifier(packed, training=False)\n",
        "    result_cls_ids = tf.argmax(logits)\n",
        "    return {\n",
        "        'logits': logits,\n",
        "        'class_id': result_cls_ids,\n",
        "        'class': tf.gather(\n",
        "            tf.constant(info.features['label'].names),\n",
        "            result_cls_ids)\n",
        "    }"
      ],
      "metadata": {
        "id": "n-qpcOh0hTOI"
      },
      "execution_count": null,
      "outputs": []
    },
    {
      "cell_type": "code",
      "source": [
        "export_model = ExportModel(bert_inputs_processor, bert_classifier)"
      ],
      "metadata": {
        "id": "CuwTHZHNhYSn"
      },
      "execution_count": null,
      "outputs": []
    },
    {
      "cell_type": "code",
      "source": [
        "import tempfile\n",
        "export_dir=tempfile.mkdtemp(suffix='_saved_model')\n",
        "tf.saved_model.save(export_model, export_dir=export_dir,\n",
        "                    signatures={'serving_default': export_model.__call__})"
      ],
      "metadata": {
        "id": "ttCvZe6MheVv"
      },
      "execution_count": null,
      "outputs": []
    },
    {
      "cell_type": "code",
      "source": [
        "original_logits = export_model(my_examples)['logits']"
      ],
      "metadata": {
        "id": "xfcHoYy5hp0W"
      },
      "execution_count": null,
      "outputs": []
    },
    {
      "cell_type": "code",
      "source": [
        "reloaded = tf.saved_model.load(export_dir)\n",
        "reloaded_logits = reloaded(my_examples)['logits']"
      ],
      "metadata": {
        "id": "2MtWpW_Uhta1"
      },
      "execution_count": null,
      "outputs": []
    },
    {
      "cell_type": "code",
      "source": [
        "print(original_logits.numpy())\n",
        "print()\n",
        "print(reloaded_logits.numpy())"
      ],
      "metadata": {
        "colab": {
          "base_uri": "https://localhost:8080/"
        },
        "id": "Ix3tHzSZhxiW",
        "outputId": "bec94396-f91b-4e52-daa5-28607c3b1e2c"
      },
      "execution_count": null,
      "outputs": [
        {
          "output_type": "stream",
          "name": "stdout",
          "text": [
            "[[-3.170754   2.0268264]\n",
            " [ 0.6892089 -1.3178688]]\n",
            "\n",
            "[[-3.170754   2.0268264]\n",
            " [ 0.6892089 -1.3178688]]\n"
          ]
        }
      ]
    },
    {
      "cell_type": "code",
      "source": [
        "print(np.mean(abs(original_logits - reloaded_logits)))"
      ],
      "metadata": {
        "colab": {
          "base_uri": "https://localhost:8080/"
        },
        "id": "sFEuYSrrh11L",
        "outputId": "2ccf3982-f944-4289-ae53-0e89a059e295"
      },
      "execution_count": null,
      "outputs": [
        {
          "output_type": "stream",
          "name": "stdout",
          "text": [
            "0.0\n"
          ]
        }
      ]
    },
    {
      "cell_type": "markdown",
      "source": [
        " BERT on TF Hub"
      ],
      "metadata": {
        "id": "Is9zn7amic68"
      }
    },
    {
      "cell_type": "code",
      "source": [
        "import tensorflow_hub as hub"
      ],
      "metadata": {
        "id": "80qAUwDRh7Ak"
      },
      "execution_count": null,
      "outputs": []
    },
    {
      "cell_type": "code",
      "source": [
        "hub_preprocessor = hub.KerasLayer(\n",
        "    \"https://tfhub.dev/tensorflow/bert_en_uncased_preprocess/3\")\n",
        "\n",
        "# This is a really small BERT.\n",
        "hub_encoder = hub.KerasLayer(f\"https://tfhub.dev/tensorflow/small_bert/bert_en_uncased_L-2_H-128_A-2/2\",\n",
        "                             trainable=True)\n",
        "\n",
        "print(f\"The Hub encoder has {len(hub_encoder.trainable_variables)} trainable variables\")"
      ],
      "metadata": {
        "colab": {
          "base_uri": "https://localhost:8080/"
        },
        "id": "xhDgxYS_imC1",
        "outputId": "5cdc4e8a-a7b7-4507-95ae-692ea7182426"
      },
      "execution_count": null,
      "outputs": [
        {
          "output_type": "stream",
          "name": "stdout",
          "text": [
            "The Hub encoder has 39 trainable variables\n"
          ]
        }
      ]
    },
    {
      "cell_type": "code",
      "source": [
        "hub_inputs = hub_preprocessor(['Hello TensorFlow!'])\n",
        "{key: value[0, :10].numpy() for key, value in hub_inputs.items()}"
      ],
      "metadata": {
        "colab": {
          "base_uri": "https://localhost:8080/"
        },
        "id": "NUTf2BAgipOl",
        "outputId": "33fba00e-4e39-4190-bf1c-f4e589cc730e"
      },
      "execution_count": null,
      "outputs": [
        {
          "output_type": "execute_result",
          "data": {
            "text/plain": [
              "{'input_mask': array([1, 1, 1, 1, 1, 1, 0, 0, 0, 0], dtype=int32),\n",
              " 'input_word_ids': array([  101,  7592, 23435, 12314,   999,   102,     0,     0,     0,\n",
              "            0], dtype=int32),\n",
              " 'input_type_ids': array([0, 0, 0, 0, 0, 0, 0, 0, 0, 0], dtype=int32)}"
            ]
          },
          "metadata": {},
          "execution_count": 59
        }
      ]
    },
    {
      "cell_type": "code",
      "source": [
        "result = hub_encoder(\n",
        "    inputs=hub_inputs,\n",
        "    training=False,\n",
        ")\n",
        "\n",
        "print(\"Pooled output shape:\", result['pooled_output'].shape)\n",
        "print(\"Sequence output shape:\", result['sequence_output'].shape)"
      ],
      "metadata": {
        "colab": {
          "base_uri": "https://localhost:8080/"
        },
        "id": "iG37Tw59irpU",
        "outputId": "e60e6494-aac4-47ad-c58b-b2d7979b9ac3"
      },
      "execution_count": null,
      "outputs": [
        {
          "output_type": "stream",
          "name": "stdout",
          "text": [
            "Pooled output shape: (1, 128)\n",
            "Sequence output shape: (1, 128, 128)\n"
          ]
        }
      ]
    },
    {
      "cell_type": "code",
      "source": [
        "hub_classifier = tfm.nlp.models.BertClassifier(\n",
        "    bert_encoder,\n",
        "    num_classes=2,\n",
        "    dropout_rate=0.1,\n",
        "    initializer=tf.keras.initializers.TruncatedNormal(\n",
        "        stddev=0.02))"
      ],
      "metadata": {
        "id": "_tOk6_NFiuaQ"
      },
      "execution_count": null,
      "outputs": []
    },
    {
      "cell_type": "markdown",
      "source": [
        "Optimizer configs"
      ],
      "metadata": {
        "id": "cmbzo6igi17g"
      }
    },
    {
      "cell_type": "code",
      "source": [
        "optimization_config = tfm.optimization.OptimizationConfig(\n",
        "    optimizer=tfm.optimization.OptimizerConfig(\n",
        "        type = \"adam\"),\n",
        "    learning_rate = tfm.optimization.LrConfig(\n",
        "        type='polynomial',\n",
        "        polynomial=tfm.optimization.PolynomialLrConfig(\n",
        "            initial_learning_rate=2e-5,\n",
        "            end_learning_rate=0.0,\n",
        "            decay_steps=num_train_steps)),\n",
        "    warmup = tfm.optimization.WarmupConfig(\n",
        "        type='linear',\n",
        "        linear=tfm.optimization.LinearWarmupConfig(warmup_steps=warmup_steps)\n",
        "    ))\n",
        "\n",
        "\n",
        "fac = tfm.optimization.optimizer_factory.OptimizerFactory(optimization_config)\n",
        "lr = fac.build_learning_rate()\n",
        "optimizer = fac.build_optimizer(lr=lr)"
      ],
      "metadata": {
        "id": "PIk9doTBi5Pg"
      },
      "execution_count": null,
      "outputs": []
    },
    {
      "cell_type": "code",
      "source": [
        "x = tf.linspace(0, num_train_steps, 1001).numpy()\n",
        "y = [lr(xi) for xi in x]\n",
        "plt.plot(x,y)\n",
        "plt.xlabel('Train step')\n",
        "plt.ylabel('Learning rate')"
      ],
      "metadata": {
        "colab": {
          "base_uri": "https://localhost:8080/"
        },
        "id": "ZKw6_h8Vi_H5",
        "outputId": "aba8e0a1-426c-4e36-bd17-9a66419b9085"
      },
      "execution_count": null,
      "outputs": [
        {
          "output_type": "execute_result",
          "data": {
            "text/plain": [
              "Text(47.097222222222214, 0.5, 'Learning rate')"
            ]
          },
          "metadata": {},
          "execution_count": 63
        }
      ]
    },
    {
      "cell_type": "code",
      "source": [
        "optimization_config = optimization_config.as_dict()\n",
        "optimization_config"
      ],
      "metadata": {
        "colab": {
          "base_uri": "https://localhost:8080/"
        },
        "id": "j2dvyo20jBch",
        "outputId": "8bf4f489-4d21-4419-c982-6cba0c9bcc5d"
      },
      "execution_count": null,
      "outputs": [
        {
          "output_type": "execute_result",
          "data": {
            "text/plain": [
              "{'optimizer': {'type': 'adam',\n",
              "  'adam': {'clipnorm': None,\n",
              "   'clipvalue': None,\n",
              "   'global_clipnorm': None,\n",
              "   'name': 'Adam',\n",
              "   'beta_1': 0.9,\n",
              "   'beta_2': 0.999,\n",
              "   'epsilon': 1e-07,\n",
              "   'amsgrad': False}},\n",
              " 'ema': None,\n",
              " 'learning_rate': {'type': 'polynomial',\n",
              "  'polynomial': {'name': 'PolynomialDecay',\n",
              "   'initial_learning_rate': 2e-05,\n",
              "   'decay_steps': 570,\n",
              "   'end_learning_rate': 0.0,\n",
              "   'power': 1.0,\n",
              "   'cycle': False,\n",
              "   'offset': 0}},\n",
              " 'warmup': {'type': 'linear',\n",
              "  'linear': {'name': 'linear', 'warmup_learning_rate': 0, 'warmup_steps': 57}}}"
            ]
          },
          "metadata": {},
          "execution_count": 64
        }
      ]
    },
    {
      "cell_type": "code",
      "source": [
        "fac = tfm.optimization.optimizer_factory.OptimizerFactory(\n",
        "    tfm.optimization.OptimizationConfig(optimization_config))\n",
        "lr = fac.build_learning_rate()\n",
        "optimizer = fac.build_optimizer(lr=lr)"
      ],
      "metadata": {
        "id": "fGNu3fLwjESJ"
      },
      "execution_count": null,
      "outputs": []
    }
  ]
}